{
 "cells": [
  {
   "cell_type": "markdown",
   "metadata": {},
   "source": [
    "# Demo\n",
    "\n",
    "Taken from the tutorial [here](https://ubiops.com/docs/ubiops_tutorials/ready-deployments/multiplication/multiplication/#code)."
   ]
  },
  {
   "cell_type": "code",
   "execution_count": 1,
   "metadata": {},
   "outputs": [],
   "source": [
    "from dotenv import load_dotenv\n",
    "import os\n",
    "\n",
    "load_dotenv()\n",
    "UBIOPS_TOKEN = os.getenv(\"UBIOPS_TOKEN\")"
   ]
  },
  {
   "cell_type": "code",
   "execution_count": 17,
   "metadata": {},
   "outputs": [
    {
     "name": "stdout",
     "output_type": "stream",
     "text": [
      "{'deployment': 'multiply',\n",
      " 'error_message': None,\n",
      " 'id': 'fce6dfd6-d623-4ca4-8d17-f109221e4172',\n",
      " 'result': {'number_multiplied': 4},\n",
      " 'status': 'completed',\n",
      " 'success': True,\n",
      " 'timeout': 10,\n",
      " 'version': 'v1'}\n"
     ]
    }
   ],
   "source": [
    "# Using the Python Client Library\n",
    "\n",
    "import ubiops\n",
    "\n",
    "TIMEOUT_VALUE = 10\n",
    "\n",
    "client = ubiops.ApiClient(ubiops.Configuration(\n",
    "\thost=\"https://api.ubiops.com/v2.1/\",\n",
    "\tapi_key={\"Authorization\": UBIOPS_TOKEN})\n",
    ")\n",
    "api = ubiops.CoreApi(client)\n",
    "\n",
    "data = {\n",
    "\t'number': 2\n",
    "}\n",
    "\n",
    "# A direct request to the default version\n",
    "request_result = api.deployment_requests_create(\n",
    "\tproject_name=\"ubiops-tour\",\n",
    "\tdeployment_name=\"multiply\",\n",
    "\tdata=data,\n",
    "\ttimeout=TIMEOUT_VALUE # optional parameter (default is 3600)\n",
    ")\n",
    "\n",
    "print(request_result)"
   ]
  },
  {
   "cell_type": "markdown",
   "metadata": {},
   "source": [
    "Let's try batch inference now"
   ]
  },
  {
   "cell_type": "code",
   "execution_count": 18,
   "metadata": {},
   "outputs": [
    {
     "name": "stdout",
     "output_type": "stream",
     "text": [
      "{'deployment': 'multiply',\n",
      " 'error_message': None,\n",
      " 'id': 'a58df4ee-5ea0-4998-93bb-f5482e0af0e7',\n",
      " 'result': [{'number_multiplied': 4},\n",
      "            {'number_multiplied': 8},\n",
      "            {'number_multiplied': 12}],\n",
      " 'status': 'completed',\n",
      " 'success': True,\n",
      " 'timeout': 10,\n",
      " 'version': 'v1'}\n"
     ]
    }
   ],
   "source": [
    "data = [\n",
    "    {'number': 2},\n",
    "    {'number': 4},\n",
    "    {'number': 6},\n",
    "]\n",
    "\n",
    "# A direct request to the default version\n",
    "request_response = api.deployment_requests_create(\n",
    "\tproject_name=\"ubiops-tour\",\n",
    "\tdeployment_name=\"multiply\",\n",
    "\tdata=data,\n",
    "\ttimeout=TIMEOUT_VALUE # optional parameter (default is 3600)\n",
    ")\n",
    "\n",
    "print(request_response)"
   ]
  },
  {
   "cell_type": "markdown",
   "metadata": {},
   "source": [
    "Results with metadata can be fetched by `response.id`"
   ]
  },
  {
   "cell_type": "code",
   "execution_count": 14,
   "metadata": {},
   "outputs": [
    {
     "data": {
      "text/plain": [
       "{'deployment': 'multiply',\n",
       " 'error_message': None,\n",
       " 'id': 'e8fb77a7-d217-4515-bd71-7fd001c6ace6',\n",
       " 'notification_group': None,\n",
       " 'origin': {'created_by': 'ec7e7ea0-5aa2-4129-bcbd-07781c93ba74.ubiops-tour@serviceuser.ubiops.com',\n",
       "            'deployment': 'multiply',\n",
       "            'deployment_version': 'v1'},\n",
       " 'request_data': [{'number': 2}, {'number': 4}, {'number': 6}],\n",
       " 'result': [{'number_multiplied': 4},\n",
       "            {'number_multiplied': 8},\n",
       "            {'number_multiplied': 12}],\n",
       " 'retries': 0,\n",
       " 'status': 'completed',\n",
       " 'success': True,\n",
       " 'time_completed': datetime.datetime(2024, 4, 16, 14, 0, 28, 765000, tzinfo=tzutc()),\n",
       " 'time_created': datetime.datetime(2024, 4, 16, 14, 0, 28, 440000, tzinfo=tzutc()),\n",
       " 'time_started': datetime.datetime(2024, 4, 16, 14, 0, 28, 608000, tzinfo=tzutc()),\n",
       " 'timeout': 10,\n",
       " 'version': 'v1'}"
      ]
     },
     "execution_count": 14,
     "metadata": {},
     "output_type": "execute_result"
    }
   ],
   "source": [
    "request_result = api.deployment_requests_get(\n",
    "\tproject_name=\"ubiops-tour\",\n",
    "\tdeployment_name=\"multiply\",\n",
    "\trequest_id=request_response.id\n",
    ")\n",
    "request_result"
   ]
  },
  {
   "cell_type": "code",
   "execution_count": null,
   "metadata": {},
   "outputs": [],
   "source": []
  }
 ],
 "metadata": {
  "kernelspec": {
   "display_name": ".venv",
   "language": "python",
   "name": "python3"
  },
  "language_info": {
   "codemirror_mode": {
    "name": "ipython",
    "version": 3
   },
   "file_extension": ".py",
   "mimetype": "text/x-python",
   "name": "python",
   "nbconvert_exporter": "python",
   "pygments_lexer": "ipython3",
   "version": "3.12.0"
  }
 },
 "nbformat": 4,
 "nbformat_minor": 2
}
