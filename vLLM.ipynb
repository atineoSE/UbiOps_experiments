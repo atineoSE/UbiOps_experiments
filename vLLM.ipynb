{
 "cells": [
  {
   "cell_type": "markdown",
   "metadata": {},
   "source": [
    "# vLLM\n"
   ]
  },
  {
   "cell_type": "code",
   "execution_count": 19,
   "metadata": {},
   "outputs": [],
   "source": [
    "from dotenv import load_dotenv\n",
    "import os\n",
    "\n",
    "load_dotenv()\n",
    "UBIOPS_TOKEN = os.getenv(\"UBIOPS_TOKEN\")"
   ]
  },
  {
   "cell_type": "code",
   "execution_count": 27,
   "metadata": {},
   "outputs": [],
   "source": [
    "import ubiops\n",
    "\n",
    "TIMEOUT_VALUE = 3600\n",
    "\n",
    "client = ubiops.ApiClient(ubiops.Configuration(\n",
    "\thost=\"https://api.ubiops.com/v2.1/\",\n",
    "\tapi_key={\"Authorization\": UBIOPS_TOKEN})\n",
    ")\n",
    "api = ubiops.CoreApi(client)\n",
    "\n",
    "data = {\n",
    "\t\"prompt\": \"Translate the following statement into Spanish: \\\"The boy fed the dog and he immediately became his friend.\\\"\"\n",
    "}\n",
    "\n",
    "# A direct request to the default version\n",
    "request_result = api.deployment_requests_create(\n",
    "\tproject_name=\"ubiops-tour\",\n",
    "\tdeployment_name=\"vllm\",\n",
    "\tdata=data,\n",
    "\ttimeout=TIMEOUT_VALUE # optional parameter (default is 3600)\n",
    ")\n"
   ]
  },
  {
   "cell_type": "code",
   "execution_count": 29,
   "metadata": {},
   "outputs": [
    {
     "name": "stdout",
     "output_type": "stream",
     "text": [
      "\n",
      "\n",
      "Statement in Spanish: \"El niño alimentó al perro y inmediatamente se convirtió en su amigo.\"\n",
      "\n",
      "Explanation:\n",
      "The Spanish version of the statement is \"El niño alimentó al perro y inmediatamente se convirtió en su amigo.\" This means \"The boy fed the dog and he immediately became his friend.\" The verb \"alimentó\" means \"fed,\" and \"convirtió\" means \"became,\" while \"se\" is a reflexive pronoun used to indicate that the dog became the boy's friend. The word \"inmediatamente\" is translated as \"immediately.\" The definite articles \"el\" (the boy) and \"su\" (his) are included to clarify that the boy's friend is the dog.\n"
     ]
    }
   ],
   "source": [
    "print(request_result.result[\"response\"])"
   ]
  },
  {
   "cell_type": "code",
   "execution_count": null,
   "metadata": {},
   "outputs": [],
   "source": []
  }
 ],
 "metadata": {
  "kernelspec": {
   "display_name": ".venv",
   "language": "python",
   "name": "python3"
  },
  "language_info": {
   "codemirror_mode": {
    "name": "ipython",
    "version": 3
   },
   "file_extension": ".py",
   "mimetype": "text/x-python",
   "name": "python",
   "nbconvert_exporter": "python",
   "pygments_lexer": "ipython3",
   "version": "3.12.0"
  }
 },
 "nbformat": 4,
 "nbformat_minor": 2
}
